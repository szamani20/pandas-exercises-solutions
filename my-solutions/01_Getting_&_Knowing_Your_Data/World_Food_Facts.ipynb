{
 "cells": [
  {
   "cell_type": "code",
   "execution_count": 9,
   "metadata": {
    "collapsed": true,
    "pycharm": {
     "is_executing": false
    }
   },
   "outputs": [],
   "source": [
    "# Step 1, 2\n",
    "import pandas as pd\n",
    "\n",
    "pd.set_option('display.expand_frame_repr', False)\n",
    "\n",
    "DATASET_PATH = '/home/szamani/PycharmProjects/pandas-training/dataset/en.openfoodfacts.org.products.tsv'"
   ]
  },
  {
   "cell_type": "code",
   "execution_count": 10,
   "outputs": [],
   "source": [
    "# Step 3\n",
    "food = pd.read_csv(DATASET_PATH, delimiter='\\t', nrows=1000)\n",
    "# food = pd.read_csv(DATASET_PATH, delimiter='\\t')"
   ],
   "metadata": {
    "collapsed": false,
    "pycharm": {
     "name": "#%%\n",
     "is_executing": false
    }
   }
  },
  {
   "cell_type": "code",
   "execution_count": 11,
   "outputs": [
    {
     "data": {
      "text/plain": "    code                                                url                     creator   created_t      created_datetime  last_modified_t last_modified_datetime                    product_name generic_name quantity  ... fruits-vegetables-nuts_100g fruits-vegetables-nuts-estimate_100g collagen-meat-protein-ratio_100g cocoa_100g chlorophyl_100g carbon-footprint_100g nutrition-score-fr_100g nutrition-score-uk_100g glycemic-index_100g water-hardness_100g\n0   3087  http://world-en.openfoodfacts.org/product/0000...  openfoodfacts-contributors  1474103866  2016-09-17T09:17:46Z       1474103893   2016-09-17T09:18:13Z              Farine de blé noir          NaN      1kg  ...                         NaN                                  NaN                              NaN        NaN             NaN                   NaN                     NaN                     NaN                 NaN                 NaN\n1   4530  http://world-en.openfoodfacts.org/product/0000...             usda-ndb-import  1489069957  2017-03-09T14:32:37Z       1489069957   2017-03-09T14:32:37Z  Banana Chips Sweetened (Whole)          NaN      NaN  ...                         NaN                                  NaN                              NaN        NaN             NaN                   NaN                    14.0                    14.0                 NaN                 NaN\n2   4559  http://world-en.openfoodfacts.org/product/0000...             usda-ndb-import  1489069957  2017-03-09T14:32:37Z       1489069957   2017-03-09T14:32:37Z                         Peanuts          NaN      NaN  ...                         NaN                                  NaN                              NaN        NaN             NaN                   NaN                     0.0                     0.0                 NaN                 NaN\n3  16087  http://world-en.openfoodfacts.org/product/0000...             usda-ndb-import  1489055731  2017-03-09T10:35:31Z       1489055731   2017-03-09T10:35:31Z          Organic Salted Nut Mix          NaN      NaN  ...                         NaN                                  NaN                              NaN        NaN             NaN                   NaN                    12.0                    12.0                 NaN                 NaN\n4  16094  http://world-en.openfoodfacts.org/product/0000...             usda-ndb-import  1489055653  2017-03-09T10:34:13Z       1489055653   2017-03-09T10:34:13Z                 Organic Polenta          NaN      NaN  ...                         NaN                                  NaN                              NaN        NaN             NaN                   NaN                     NaN                     NaN                 NaN                 NaN\n\n[5 rows x 163 columns]",
      "text/html": "<div>\n<style scoped>\n    .dataframe tbody tr th:only-of-type {\n        vertical-align: middle;\n    }\n\n    .dataframe tbody tr th {\n        vertical-align: top;\n    }\n\n    .dataframe thead th {\n        text-align: right;\n    }\n</style>\n<table border=\"1\" class=\"dataframe\">\n  <thead>\n    <tr style=\"text-align: right;\">\n      <th></th>\n      <th>code</th>\n      <th>url</th>\n      <th>creator</th>\n      <th>created_t</th>\n      <th>created_datetime</th>\n      <th>last_modified_t</th>\n      <th>last_modified_datetime</th>\n      <th>product_name</th>\n      <th>generic_name</th>\n      <th>quantity</th>\n      <th>...</th>\n      <th>fruits-vegetables-nuts_100g</th>\n      <th>fruits-vegetables-nuts-estimate_100g</th>\n      <th>collagen-meat-protein-ratio_100g</th>\n      <th>cocoa_100g</th>\n      <th>chlorophyl_100g</th>\n      <th>carbon-footprint_100g</th>\n      <th>nutrition-score-fr_100g</th>\n      <th>nutrition-score-uk_100g</th>\n      <th>glycemic-index_100g</th>\n      <th>water-hardness_100g</th>\n    </tr>\n  </thead>\n  <tbody>\n    <tr>\n      <td>0</td>\n      <td>3087</td>\n      <td>http://world-en.openfoodfacts.org/product/0000...</td>\n      <td>openfoodfacts-contributors</td>\n      <td>1474103866</td>\n      <td>2016-09-17T09:17:46Z</td>\n      <td>1474103893</td>\n      <td>2016-09-17T09:18:13Z</td>\n      <td>Farine de blé noir</td>\n      <td>NaN</td>\n      <td>1kg</td>\n      <td>...</td>\n      <td>NaN</td>\n      <td>NaN</td>\n      <td>NaN</td>\n      <td>NaN</td>\n      <td>NaN</td>\n      <td>NaN</td>\n      <td>NaN</td>\n      <td>NaN</td>\n      <td>NaN</td>\n      <td>NaN</td>\n    </tr>\n    <tr>\n      <td>1</td>\n      <td>4530</td>\n      <td>http://world-en.openfoodfacts.org/product/0000...</td>\n      <td>usda-ndb-import</td>\n      <td>1489069957</td>\n      <td>2017-03-09T14:32:37Z</td>\n      <td>1489069957</td>\n      <td>2017-03-09T14:32:37Z</td>\n      <td>Banana Chips Sweetened (Whole)</td>\n      <td>NaN</td>\n      <td>NaN</td>\n      <td>...</td>\n      <td>NaN</td>\n      <td>NaN</td>\n      <td>NaN</td>\n      <td>NaN</td>\n      <td>NaN</td>\n      <td>NaN</td>\n      <td>14.0</td>\n      <td>14.0</td>\n      <td>NaN</td>\n      <td>NaN</td>\n    </tr>\n    <tr>\n      <td>2</td>\n      <td>4559</td>\n      <td>http://world-en.openfoodfacts.org/product/0000...</td>\n      <td>usda-ndb-import</td>\n      <td>1489069957</td>\n      <td>2017-03-09T14:32:37Z</td>\n      <td>1489069957</td>\n      <td>2017-03-09T14:32:37Z</td>\n      <td>Peanuts</td>\n      <td>NaN</td>\n      <td>NaN</td>\n      <td>...</td>\n      <td>NaN</td>\n      <td>NaN</td>\n      <td>NaN</td>\n      <td>NaN</td>\n      <td>NaN</td>\n      <td>NaN</td>\n      <td>0.0</td>\n      <td>0.0</td>\n      <td>NaN</td>\n      <td>NaN</td>\n    </tr>\n    <tr>\n      <td>3</td>\n      <td>16087</td>\n      <td>http://world-en.openfoodfacts.org/product/0000...</td>\n      <td>usda-ndb-import</td>\n      <td>1489055731</td>\n      <td>2017-03-09T10:35:31Z</td>\n      <td>1489055731</td>\n      <td>2017-03-09T10:35:31Z</td>\n      <td>Organic Salted Nut Mix</td>\n      <td>NaN</td>\n      <td>NaN</td>\n      <td>...</td>\n      <td>NaN</td>\n      <td>NaN</td>\n      <td>NaN</td>\n      <td>NaN</td>\n      <td>NaN</td>\n      <td>NaN</td>\n      <td>12.0</td>\n      <td>12.0</td>\n      <td>NaN</td>\n      <td>NaN</td>\n    </tr>\n    <tr>\n      <td>4</td>\n      <td>16094</td>\n      <td>http://world-en.openfoodfacts.org/product/0000...</td>\n      <td>usda-ndb-import</td>\n      <td>1489055653</td>\n      <td>2017-03-09T10:34:13Z</td>\n      <td>1489055653</td>\n      <td>2017-03-09T10:34:13Z</td>\n      <td>Organic Polenta</td>\n      <td>NaN</td>\n      <td>NaN</td>\n      <td>...</td>\n      <td>NaN</td>\n      <td>NaN</td>\n      <td>NaN</td>\n      <td>NaN</td>\n      <td>NaN</td>\n      <td>NaN</td>\n      <td>NaN</td>\n      <td>NaN</td>\n      <td>NaN</td>\n      <td>NaN</td>\n    </tr>\n  </tbody>\n</table>\n<p>5 rows × 163 columns</p>\n</div>"
     },
     "metadata": {},
     "output_type": "execute_result",
     "execution_count": 11
    }
   ],
   "source": [
    "# Step 4\n",
    "food.head(5)"
   ],
   "metadata": {
    "collapsed": false,
    "pycharm": {
     "name": "#%%\n",
     "is_executing": false
    }
   }
  },
  {
   "cell_type": "code",
   "execution_count": 12,
   "outputs": [
    {
     "data": {
      "text/plain": "(1000, 163)"
     },
     "metadata": {},
     "output_type": "execute_result",
     "execution_count": 12
    }
   ],
   "source": [
    "# Step 5\n",
    "food.shape"
   ],
   "metadata": {
    "collapsed": false,
    "pycharm": {
     "name": "#%%\n",
     "is_executing": false
    }
   }
  },
  {
   "cell_type": "code",
   "execution_count": 13,
   "outputs": [
    {
     "data": {
      "text/plain": "163"
     },
     "metadata": {},
     "output_type": "execute_result",
     "execution_count": 13
    }
   ],
   "source": [
    "# Step 6\n",
    "food.shape[1]"
   ],
   "metadata": {
    "collapsed": false,
    "pycharm": {
     "name": "#%%\n",
     "is_executing": false
    }
   }
  },
  {
   "cell_type": "code",
   "execution_count": 14,
   "outputs": [
    {
     "data": {
      "text/plain": "array(['code', 'url', 'creator', 'created_t', 'created_datetime',\n       'last_modified_t', 'last_modified_datetime', 'product_name',\n       'generic_name', 'quantity', 'packaging', 'packaging_tags',\n       'brands', 'brands_tags', 'categories', 'categories_tags',\n       'categories_en', 'origins', 'origins_tags', 'manufacturing_places',\n       'manufacturing_places_tags', 'labels', 'labels_tags', 'labels_en',\n       'emb_codes', 'emb_codes_tags', 'first_packaging_code_geo',\n       'cities', 'cities_tags', 'purchase_places', 'stores', 'countries',\n       'countries_tags', 'countries_en', 'ingredients_text', 'allergens',\n       'allergens_en', 'traces', 'traces_tags', 'traces_en',\n       'serving_size', 'no_nutriments', 'additives_n', 'additives',\n       'additives_tags', 'additives_en', 'ingredients_from_palm_oil_n',\n       'ingredients_from_palm_oil', 'ingredients_from_palm_oil_tags',\n       'ingredients_that_may_be_from_palm_oil_n',\n       'ingredients_that_may_be_from_palm_oil',\n       'ingredients_that_may_be_from_palm_oil_tags', 'nutrition_grade_uk',\n       'nutrition_grade_fr', 'pnns_groups_1', 'pnns_groups_2', 'states',\n       'states_tags', 'states_en', 'main_category', 'main_category_en',\n       'image_url', 'image_small_url', 'energy_100g',\n       'energy-from-fat_100g', 'fat_100g', 'saturated-fat_100g',\n       '-butyric-acid_100g', '-caproic-acid_100g', '-caprylic-acid_100g',\n       '-capric-acid_100g', '-lauric-acid_100g', '-myristic-acid_100g',\n       '-palmitic-acid_100g', '-stearic-acid_100g',\n       '-arachidic-acid_100g', '-behenic-acid_100g',\n       '-lignoceric-acid_100g', '-cerotic-acid_100g',\n       '-montanic-acid_100g', '-melissic-acid_100g',\n       'monounsaturated-fat_100g', 'polyunsaturated-fat_100g',\n       'omega-3-fat_100g', '-alpha-linolenic-acid_100g',\n       '-eicosapentaenoic-acid_100g', '-docosahexaenoic-acid_100g',\n       'omega-6-fat_100g', '-linoleic-acid_100g',\n       '-arachidonic-acid_100g', '-gamma-linolenic-acid_100g',\n       '-dihomo-gamma-linolenic-acid_100g', 'omega-9-fat_100g',\n       '-oleic-acid_100g', '-elaidic-acid_100g', '-gondoic-acid_100g',\n       '-mead-acid_100g', '-erucic-acid_100g', '-nervonic-acid_100g',\n       'trans-fat_100g', 'cholesterol_100g', 'carbohydrates_100g',\n       'sugars_100g', '-sucrose_100g', '-glucose_100g', '-fructose_100g',\n       '-lactose_100g', '-maltose_100g', '-maltodextrins_100g',\n       'starch_100g', 'polyols_100g', 'fiber_100g', 'proteins_100g',\n       'casein_100g', 'serum-proteins_100g', 'nucleotides_100g',\n       'salt_100g', 'sodium_100g', 'alcohol_100g', 'vitamin-a_100g',\n       'beta-carotene_100g', 'vitamin-d_100g', 'vitamin-e_100g',\n       'vitamin-k_100g', 'vitamin-c_100g', 'vitamin-b1_100g',\n       'vitamin-b2_100g', 'vitamin-pp_100g', 'vitamin-b6_100g',\n       'vitamin-b9_100g', 'folates_100g', 'vitamin-b12_100g',\n       'biotin_100g', 'pantothenic-acid_100g', 'silica_100g',\n       'bicarbonate_100g', 'potassium_100g', 'chloride_100g',\n       'calcium_100g', 'phosphorus_100g', 'iron_100g', 'magnesium_100g',\n       'zinc_100g', 'copper_100g', 'manganese_100g', 'fluoride_100g',\n       'selenium_100g', 'chromium_100g', 'molybdenum_100g', 'iodine_100g',\n       'caffeine_100g', 'taurine_100g', 'ph_100g',\n       'fruits-vegetables-nuts_100g',\n       'fruits-vegetables-nuts-estimate_100g',\n       'collagen-meat-protein-ratio_100g', 'cocoa_100g',\n       'chlorophyl_100g', 'carbon-footprint_100g',\n       'nutrition-score-fr_100g', 'nutrition-score-uk_100g',\n       'glycemic-index_100g', 'water-hardness_100g'], dtype=object)"
     },
     "metadata": {},
     "output_type": "execute_result",
     "execution_count": 14
    }
   ],
   "source": [
    "# Step 7\n",
    "food.columns.ravel()"
   ],
   "metadata": {
    "collapsed": false,
    "pycharm": {
     "name": "#%%\n",
     "is_executing": false
    }
   }
  },
  {
   "cell_type": "code",
   "execution_count": 15,
   "outputs": [
    {
     "data": {
      "text/plain": "'-glucose_100g'"
     },
     "metadata": {},
     "output_type": "execute_result",
     "execution_count": 15
    }
   ],
   "source": [
    "# Step 8\n",
    "food.columns.ravel()[104]"
   ],
   "metadata": {
    "collapsed": false,
    "pycharm": {
     "name": "#%%\n",
     "is_executing": false
    }
   }
  },
  {
   "cell_type": "code",
   "execution_count": 16,
   "outputs": [
    {
     "name": "stdout",
     "text": [
      "float64\nfloat64\n"
     ],
     "output_type": "stream"
    }
   ],
   "source": [
    "# Step 9\n",
    "print(food.iloc[:, 104].dtype)\n",
    "print(food.dtypes[food.columns.ravel()[104]])"
   ],
   "metadata": {
    "collapsed": false,
    "pycharm": {
     "name": "#%%\n",
     "is_executing": false
    }
   }
  },
  {
   "cell_type": "code",
   "execution_count": 17,
   "outputs": [
    {
     "data": {
      "text/plain": "RangeIndex(start=0, stop=1000, step=1)"
     },
     "metadata": {},
     "output_type": "execute_result",
     "execution_count": 17
    }
   ],
   "source": [
    "# Step 10\n",
    "food.index"
   ],
   "metadata": {
    "collapsed": false,
    "pycharm": {
     "name": "#%%\n",
     "is_executing": false
    }
   }
  },
  {
   "cell_type": "code",
   "execution_count": 18,
   "outputs": [
    {
     "data": {
      "text/plain": "'Lotus Organic Brown Jasmine Rice'"
     },
     "metadata": {},
     "output_type": "execute_result",
     "execution_count": 18
    }
   ],
   "source": [
    "# Step 11\n",
    "food.iloc[18, :].product_name"
   ],
   "metadata": {
    "collapsed": false,
    "pycharm": {
     "name": "#%%\n",
     "is_executing": false
    }
   }
  }
 ],
 "metadata": {
  "language_info": {
   "codemirror_mode": {
    "name": "ipython",
    "version": 2
   },
   "file_extension": ".py",
   "mimetype": "text/x-python",
   "name": "python",
   "nbconvert_exporter": "python",
   "pygments_lexer": "ipython2",
   "version": "2.7.6"
  },
  "kernelspec": {
   "name": "pycharm-b7ca10a9",
   "language": "python",
   "display_name": "PyCharm (macai)"
  },
  "pycharm": {
   "stem_cell": {
    "cell_type": "raw",
    "source": [],
    "metadata": {
     "collapsed": false
    }
   }
  }
 },
 "nbformat": 4,
 "nbformat_minor": 0
}